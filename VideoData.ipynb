{
 "cells": [
  {
   "cell_type": "code",
   "execution_count": 1,
   "id": "d6af7af9",
   "metadata": {},
   "outputs": [],
   "source": [
    "import numpy as np\n",
    "from matplotlib import pyplot as plt\n",
    "plt.rcParams['axes.labelsize'] = 17\n",
    "plt.rcParams['xtick.labelsize'] = 14\n",
    "plt.rcParams['ytick.labelsize'] = 14\n",
    "%matplotlib inline \n",
    "from skimage.io import imread\n",
    "from skimage import color\n",
    "import copy\n",
    "import cv2\n",
    "from skimage.feature import canny"
   ]
  },
  {
   "cell_type": "code",
   "execution_count": null,
   "id": "38be7b14",
   "metadata": {},
   "outputs": [],
   "source": [
    "#data = np.genfromtxt(\"dataset/tr_IMG_0928_Track.csv\", delimiter=' ')"
   ]
  },
  {
   "cell_type": "code",
   "execution_count": null,
   "id": "7349b3d5",
   "metadata": {},
   "outputs": [],
   "source": [
    "import bpy\n",
    "\n",
    "frameno = 0\n",
    "for clip in bpy.data.movieclips:\n",
    "        while frameno<85:\n",
    "            fn = '/Users/mo/Documents/Master/modern Image Processing/FinalProjekt/dataset/vids/labels/{0}.txt'.format(frameno)\n",
    "            string = \"\"\n",
    "            for track in clip.tracking.tracks:\n",
    "                markerAtFrame = track.markers.find_frame(frameno)\n",
    "                if not markerAtFrame:\n",
    "                    break\n",
    "                coords = markerAtFrame.co.xy\n",
    "                string = string + '{0} {1}\\n'.format(coords[1]*clip.size[1], coords[0]*clip.size[0])\n",
    "            frameno += 1\n",
    "            with open(fn, 'w') as f:\n",
    "                f.write(string)"
   ]
  },
  {
   "cell_type": "code",
   "execution_count": 4,
   "id": "888d5953",
   "metadata": {},
   "outputs": [],
   "source": [
    "import cv2\n",
    "\n",
    "# Path to your .mov video file\n",
    "video_path = '/Users/mo/Documents/Master/modern Image Processing/FinalProjekt/dataset/vids/936.MOV'\n",
    "\n",
    "# Open the video file\n",
    "cap = cv2.VideoCapture(video_path)\n",
    "\n",
    "# Check if video opened successfully\n",
    "if not cap.isOpened():\n",
    "    print(\"Error: Could not open video.\")\n",
    "    exit()\n",
    "\n",
    "    \n",
    "frameno = 36\n",
    "while frameno<104:\n",
    "    cap.set(cv2.CAP_PROP_POS_FRAMES, frameno)\n",
    "    success, frame = cap.read()\n",
    "    cv2.imwrite('/Users/mo/Documents/Master/modern Image Processing/FinalProjekt/dataset/vids/pics/{0}.jpg'.format(frameno+936), frame)\n",
    "    #cap.release()\n",
    "    frameno += 1\n",
    "\n"
   ]
  },
  {
   "cell_type": "code",
   "execution_count": null,
   "id": "7de30e91",
   "metadata": {},
   "outputs": [],
   "source": [
    "cap.set(cv2.CAP_PROP_POS_FRAMES, 21)\n",
    "success, frame = cap.read()"
   ]
  },
  {
   "cell_type": "code",
   "execution_count": null,
   "id": "6217eb4c",
   "metadata": {},
   "outputs": [],
   "source": []
  },
  {
   "cell_type": "code",
   "execution_count": null,
   "id": "2480416f",
   "metadata": {},
   "outputs": [],
   "source": [
    "import bpy\n",
    "\n",
    "frameno = 0\n",
    "for clip in bpy.data.movieclips:\n",
    "        while frameno<85:\n",
    "            fn = '/Users/mo/Documents/Master/modern Image Processing/FinalProjekt/dataset/vids/labels/{0}.txt'.format(frameno+489)\n",
    "            string = \"\"\n",
    "            for track in clip.tracking.tracks:\n",
    "                markerAtFrame = track.markers.find_frame(frameno)\n",
    "                if not markerAtFrame:\n",
    "                    break\n",
    "                coords = markerAtFrame.co.xy\n",
    "                string = string + '{0} {1}\\n'.format(coords[0]*clip.size[0], coords[1]*clip.size[1])\n",
    "            frameno += 1\n",
    "            with open(fn, 'w') as f:\n",
    "                f.write(string)"
   ]
  }
 ],
 "metadata": {
  "kernelspec": {
   "display_name": "Python 3 (ipykernel)",
   "language": "python",
   "name": "python3"
  },
  "language_info": {
   "codemirror_mode": {
    "name": "ipython",
    "version": 3
   },
   "file_extension": ".py",
   "mimetype": "text/x-python",
   "name": "python",
   "nbconvert_exporter": "python",
   "pygments_lexer": "ipython3",
   "version": "3.10.13"
  }
 },
 "nbformat": 4,
 "nbformat_minor": 5
}
